{
 "cells": [
  {
   "cell_type": "code",
   "execution_count": 29,
   "metadata": {},
   "outputs": [],
   "source": [
    "import pandas as pd\n",
    "from sklearn import tree\n",
    "import pydotplus\n",
    "from sklearn.tree import DecisionTreeClassifier\n",
    "import matplotlib.pyplot as plt\n",
    "import matplotlib.image as pltimg"
   ]
  },
  {
   "cell_type": "markdown",
   "metadata": {},
   "source": [
    "# Crime data  \n",
    "Link: https://www.rdocumentation.org/packages/MASS/versions/7.3-54/topics/UScrime  \n",
    "## References\n",
    "Venables, W. N. and Ripley, B. D. (1999) Modern Applied Statistics with S-PLUS. Third Edition. Springer."
   ]
  },
  {
   "cell_type": "markdown",
   "metadata": {},
   "source": [
    "## Independent Variables\n",
    "M: percentage of males aged 14-24  \n",
    "So: indicator variable for a Southern state  \n",
    "Ed: mean years of schooling  \n",
    "Po1: police expenditure in 1960  \n",
    "Po2: police expenditure in 1959  \n",
    "LF: labor force participation rate  \n",
    "M.F: number of males per 1000 females  \n",
    "Pop: state population  \n",
    "NW: number of non-whites per 1000 people  \n",
    "U1: unemployment rate of urban males 14-24  \n",
    "U2: unemployment rate of urban males 35-39  \n",
    "GDP: gross domestic product per head  \n",
    "Ineq: income inequality  \n",
    "Prob: probability of imprisonment  \n",
    "Time: average time served in state prisons  \n",
    "y: rate of crimes in a particular category per head of population  "
   ]
  },
  {
   "cell_type": "code",
   "execution_count": 30,
   "metadata": {},
   "outputs": [],
   "source": [
    "# read in the uscrime file\n",
    "df = pd.read_csv(\"uscrime.csv\")"
   ]
  },
  {
   "cell_type": "code",
   "execution_count": 31,
   "metadata": {},
   "outputs": [
    {
     "data": {
      "text/html": [
       "<div>\n",
       "<style scoped>\n",
       "    .dataframe tbody tr th:only-of-type {\n",
       "        vertical-align: middle;\n",
       "    }\n",
       "\n",
       "    .dataframe tbody tr th {\n",
       "        vertical-align: top;\n",
       "    }\n",
       "\n",
       "    .dataframe thead th {\n",
       "        text-align: right;\n",
       "    }\n",
       "</style>\n",
       "<table border=\"1\" class=\"dataframe\">\n",
       "  <thead>\n",
       "    <tr style=\"text-align: right;\">\n",
       "      <th></th>\n",
       "      <th>M</th>\n",
       "      <th>So</th>\n",
       "      <th>Ed</th>\n",
       "      <th>Po1</th>\n",
       "      <th>Po2</th>\n",
       "      <th>LF</th>\n",
       "      <th>M.F</th>\n",
       "      <th>Pop</th>\n",
       "      <th>NW</th>\n",
       "      <th>U1</th>\n",
       "      <th>U2</th>\n",
       "      <th>GDP</th>\n",
       "      <th>Ineq</th>\n",
       "      <th>Prob</th>\n",
       "      <th>Time</th>\n",
       "      <th>y</th>\n",
       "    </tr>\n",
       "  </thead>\n",
       "  <tbody>\n",
       "    <tr>\n",
       "      <th>0</th>\n",
       "      <td>151</td>\n",
       "      <td>1</td>\n",
       "      <td>91</td>\n",
       "      <td>58</td>\n",
       "      <td>56</td>\n",
       "      <td>510</td>\n",
       "      <td>950</td>\n",
       "      <td>33</td>\n",
       "      <td>301</td>\n",
       "      <td>108</td>\n",
       "      <td>41</td>\n",
       "      <td>394</td>\n",
       "      <td>261</td>\n",
       "      <td>0.084602</td>\n",
       "      <td>26.2011</td>\n",
       "      <td>791</td>\n",
       "    </tr>\n",
       "    <tr>\n",
       "      <th>1</th>\n",
       "      <td>143</td>\n",
       "      <td>0</td>\n",
       "      <td>113</td>\n",
       "      <td>103</td>\n",
       "      <td>95</td>\n",
       "      <td>583</td>\n",
       "      <td>1012</td>\n",
       "      <td>13</td>\n",
       "      <td>102</td>\n",
       "      <td>96</td>\n",
       "      <td>36</td>\n",
       "      <td>557</td>\n",
       "      <td>194</td>\n",
       "      <td>0.029599</td>\n",
       "      <td>25.2999</td>\n",
       "      <td>1635</td>\n",
       "    </tr>\n",
       "    <tr>\n",
       "      <th>2</th>\n",
       "      <td>142</td>\n",
       "      <td>1</td>\n",
       "      <td>89</td>\n",
       "      <td>45</td>\n",
       "      <td>44</td>\n",
       "      <td>533</td>\n",
       "      <td>969</td>\n",
       "      <td>18</td>\n",
       "      <td>219</td>\n",
       "      <td>94</td>\n",
       "      <td>33</td>\n",
       "      <td>318</td>\n",
       "      <td>250</td>\n",
       "      <td>0.083401</td>\n",
       "      <td>24.3006</td>\n",
       "      <td>578</td>\n",
       "    </tr>\n",
       "    <tr>\n",
       "      <th>3</th>\n",
       "      <td>136</td>\n",
       "      <td>0</td>\n",
       "      <td>121</td>\n",
       "      <td>149</td>\n",
       "      <td>141</td>\n",
       "      <td>577</td>\n",
       "      <td>994</td>\n",
       "      <td>157</td>\n",
       "      <td>80</td>\n",
       "      <td>102</td>\n",
       "      <td>39</td>\n",
       "      <td>673</td>\n",
       "      <td>167</td>\n",
       "      <td>0.015801</td>\n",
       "      <td>29.9012</td>\n",
       "      <td>1969</td>\n",
       "    </tr>\n",
       "    <tr>\n",
       "      <th>4</th>\n",
       "      <td>141</td>\n",
       "      <td>0</td>\n",
       "      <td>121</td>\n",
       "      <td>109</td>\n",
       "      <td>101</td>\n",
       "      <td>591</td>\n",
       "      <td>985</td>\n",
       "      <td>18</td>\n",
       "      <td>30</td>\n",
       "      <td>91</td>\n",
       "      <td>20</td>\n",
       "      <td>578</td>\n",
       "      <td>174</td>\n",
       "      <td>0.041399</td>\n",
       "      <td>21.2998</td>\n",
       "      <td>1234</td>\n",
       "    </tr>\n",
       "  </tbody>\n",
       "</table>\n",
       "</div>"
      ],
      "text/plain": [
       "     M  So   Ed  Po1  Po2   LF   M.F  Pop   NW   U1  U2  GDP  Ineq      Prob  \\\n",
       "0  151   1   91   58   56  510   950   33  301  108  41  394   261  0.084602   \n",
       "1  143   0  113  103   95  583  1012   13  102   96  36  557   194  0.029599   \n",
       "2  142   1   89   45   44  533   969   18  219   94  33  318   250  0.083401   \n",
       "3  136   0  121  149  141  577   994  157   80  102  39  673   167  0.015801   \n",
       "4  141   0  121  109  101  591   985   18   30   91  20  578   174  0.041399   \n",
       "\n",
       "      Time     y  \n",
       "0  26.2011   791  \n",
       "1  25.2999  1635  \n",
       "2  24.3006   578  \n",
       "3  29.9012  1969  \n",
       "4  21.2998  1234  "
      ]
     },
     "execution_count": 31,
     "metadata": {},
     "output_type": "execute_result"
    }
   ],
   "source": [
    "df.head()"
   ]
  },
  {
   "cell_type": "code",
   "execution_count": 35,
   "metadata": {},
   "outputs": [
    {
     "name": "stdout",
     "output_type": "stream",
     "text": [
      "['M' 'So' 'Ed' 'Po1' 'Po2' 'LF' 'M.F' 'Pop' 'NW' 'U1' 'U2' 'GDP' 'Ineq'\n",
      " 'Prob' 'Time']\n"
     ]
    }
   ],
   "source": [
    "features = df.columns.values[:-1]\n",
    "print(features)\n",
    "# all variables except dependent variable\n",
    "X = df.loc[:,df.columns!='y']\n",
    "# dependent variable\n",
    "y = df.y"
   ]
  },
  {
   "cell_type": "code",
   "execution_count": 41,
   "metadata": {},
   "outputs": [
    {
     "data": {
      "image/png": "[encoded data removed]",
      "text/plain": [
       "<Figure size 432x288 with 1 Axes>"
      ]
     },
     "metadata": {
      "needs_background": "light"
     },
     "output_type": "display_data"
    }
   ],
   "source": [
    "#source: https://www.w3schools.com/python/python_ml_decision_tree.asp\n",
    "dtree = DecisionTreeClassifier(min_samples_leaf=10,max_leaf_nodes=7)\n",
    "dtree = dtree.fit(X, y)\n",
    "data = tree.export_graphviz(dtree, out_file=None, feature_names=features)\n",
    "graph = pydotplus.graph_from_dot_data(data)\n",
    "graph.write_png('mydecisiontree.png')\n",
    "img=pltimg.imread('mydecisiontree.png')\n",
    "imgplot = plt.imshow(img)\n",
    "plt.show()"
   ]
  }
 ],
 "metadata": {
  "kernelspec": {
   "display_name": "Python 3",
   "language": "python",
   "name": "python3"
  },
  "language_info": {
   "codemirror_mode": {
    "name": "ipython",
    "version": 3
   },
   "file_extension": ".py",
   "mimetype": "text/x-python",
   "name": "python",
   "nbconvert_exporter": "python",
   "pygments_lexer": "ipython3",
   "version": "3.8.5"
  }
 },
 "nbformat": 4,
 "nbformat_minor": 4
}
